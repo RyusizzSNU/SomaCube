{
 "cells": [
  {
   "cell_type": "code",
   "execution_count": 67,
   "metadata": {},
   "outputs": [],
   "source": [
    "%matplotlib inline\n",
    "from pycocotools.coco import COCO\n",
    "import numpy as np\n",
    "import skimage.io as io\n",
    "import matplotlib.pyplot as plt\n",
    "import pylab\n",
    "import os.path as osp\n",
    "pylab.rcParams['figure.figsize'] = (8.0, 10.0)\n",
    "\n",
    "from ipywidgets import interact"
   ]
  },
  {
   "cell_type": "code",
   "execution_count": 68,
   "metadata": {},
   "outputs": [],
   "source": [
    "dataDir='train'\n",
    "annFile = 'annotations_train.json'\n",
    "#annFile='ref_point_train/ref_point.json'\n",
    "#dataDir='val'\n",
    "#annFile='annotations_val.json'"
   ]
  },
  {
   "cell_type": "code",
   "execution_count": 69,
   "metadata": {},
   "outputs": [
    {
     "name": "stdout",
     "output_type": "stream",
     "text": [
      "loading annotations into memory...\n",
      "Done (t=0.01s)\n",
      "creating index...\n",
      "index created!\n"
     ]
    }
   ],
   "source": [
    "# initialize COCO api for instance annotations\n",
    "coco=COCO(annFile)"
   ]
  },
  {
   "cell_type": "code",
   "execution_count": 70,
   "metadata": {
    "scrolled": true
   },
   "outputs": [
    {
     "name": "stdout",
     "output_type": "stream",
     "text": [
      "COCO categories: \n",
      "block1 block2 block3 block4 block5 block6 block7\n",
      "\n",
      "COCO supercategories: \n",
      "somacube\n"
     ]
    }
   ],
   "source": [
    "# display COCO categories and supercategories\n",
    "cats = coco.loadCats(coco.getCatIds())\n",
    "nms=[cat['name'] for cat in cats]\n",
    "print('COCO categories: \\n{}\\n'.format(' '.join(nms)))\n",
    "\n",
    "nms = set([cat['supercategory'] for cat in cats])\n",
    "print('COCO supercategories: \\n{}'.format(' '.join(nms)))\n",
    "\n",
    "catIds = sorted(coco.getCatIds(catNms=['block1','block2','block3','block4','block5','block6','block7']))\n",
    "imgIds = sorted(coco.getImgIds())"
   ]
  },
  {
   "cell_type": "code",
   "execution_count": 71,
   "metadata": {},
   "outputs": [
    {
     "data": {
      "application/vnd.jupyter.widget-view+json": {
       "model_id": "0b2e4ca2bb18420fb55958630b5ba750",
       "version_major": 2,
       "version_minor": 0
      },
      "text/plain": [
       "interactive(children=(IntSlider(value=249, description='img_id', max=499), Output()), _dom_classes=('widget-in…"
      ]
     },
     "metadata": {},
     "output_type": "display_data"
    }
   ],
   "source": [
    "@interact(img_id=(0,len(imgIds)-1,1))\n",
    "def f(img_id):\n",
    "\n",
    "  targetId = coco.getImgIds(imgIds = [imgIds[img_id]])\n",
    "\n",
    "  img = coco.loadImgs(targetId[0:1])[0]\n",
    "  I = io.imread(osp.join(dataDir,img['file_name']))\n",
    "\n",
    "\n",
    "  plt.imshow(I); plt.axis('off')\n",
    "  annIds = coco.getAnnIds(imgIds=img['id'], catIds=catIds, iscrowd=None)\n",
    "  anns = coco.loadAnns(annIds)\n",
    "  \n",
    "  # code for ref_point annotation\n",
    "  for ann in anns:\n",
    "    if(\"ref_point\" in ann):\n",
    "      p = np.array(ann[\"ref_point\"])\n",
    "      size = 2\n",
    "      ann[\"segmentation\"] = [np.concatenate([p + [-size, -size], p + [-size, size], p + [size, size], p + [size, -size]])]\n",
    "  coco.showAnns(anns)\n",
    "  \n"
   ]
  },
  {
   "cell_type": "code",
   "execution_count": null,
   "metadata": {},
   "outputs": [],
   "source": []
  }
 ],
 "metadata": {
  "kernelspec": {
   "display_name": "Python 3",
   "language": "python",
   "name": "python3"
  },
  "language_info": {
   "codemirror_mode": {
    "name": "ipython",
    "version": 3
   },
   "file_extension": ".py",
   "mimetype": "text/x-python",
   "name": "python",
   "nbconvert_exporter": "python",
   "pygments_lexer": "ipython3",
   "version": "3.7.3"
  }
 },
 "nbformat": 4,
 "nbformat_minor": 1
}
